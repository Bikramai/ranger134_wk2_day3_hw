{
 "cells": [
  {
   "cell_type": "markdown",
   "metadata": {},
   "source": [
    "# Dictionaries & Sets"
   ]
  },
  {
   "cell_type": "markdown",
   "metadata": {},
   "source": [
    "## Tasks Today:\n",
    "\n",
    "1) Dictionary <br>\n",
    " &nbsp;&nbsp;&nbsp;&nbsp; a) Declaring (key, value) <br>\n",
    " &nbsp;&nbsp;&nbsp;&nbsp; b) Accessing Values <br>\n",
    " &nbsp;&nbsp;&nbsp;&nbsp; ------ Exercise #1 - Print the eye color of each person in a double nested dict <br>\n",
    " &nbsp;&nbsp;&nbsp;&nbsp; c) Adding New Pairs <br>\n",
    " &nbsp;&nbsp;&nbsp;&nbsp; d) Modifying Values <br>\n",
    " &nbsp;&nbsp;&nbsp;&nbsp; e) Removing Key, Value Pairs <br>\n",
    " &nbsp;&nbsp;&nbsp;&nbsp; f) Looping a Dictionary <br>\n",
    " &nbsp;&nbsp;&nbsp;&nbsp; g) Looping Only Keys <br>\n",
    " &nbsp;&nbsp;&nbsp;&nbsp; h) Looping Only Values <br>\n",
    " &nbsp;&nbsp;&nbsp;&nbsp; ------ Exercise #2 - Create a Function that Prints All Key Value Pairs within a print .format()  <br>\n",
    " &nbsp;&nbsp;&nbsp;&nbsp; i) sorted() <br>\n",
    " &nbsp;&nbsp;&nbsp;&nbsp; j) Lists with Dictionaries <br>\n",
    " &nbsp;&nbsp;&nbsp;&nbsp; k) Dictionaries with Lists <br>\n",
    " &nbsp;&nbsp;&nbsp;&nbsp; l) Dictionaries with Dictionaries <br>\n",
    " &nbsp;&nbsp;&nbsp;&nbsp; ------ Exercise #3 - Write a Function that asks someone's name and address, and then stores that into a dictionary, which prints all names and addresses after they're done putting information in...  <br>\n",
    "2) Dictionaries vs. Lists (over time)<br>\n",
    "3) Set <br>\n",
    " &nbsp;&nbsp;&nbsp;&nbsp; a) Declaring <br>\n",
    " &nbsp;&nbsp;&nbsp;&nbsp; b) .add() <br>\n",
    " &nbsp;&nbsp;&nbsp;&nbsp; c) .remove() <br>\n",
    " &nbsp;&nbsp;&nbsp;&nbsp; d) .union() <br>\n",
    " &nbsp;&nbsp;&nbsp;&nbsp; e) .intersection() <br>\n",
    " &nbsp;&nbsp;&nbsp;&nbsp; f) .difference() <br>\n",
    " &nbsp;&nbsp;&nbsp;&nbsp; g) Frozen Set <br>\n",
    "4) Modules <br>\n",
    " &nbsp;&nbsp;&nbsp;&nbsp; a) Importing Entire Modules <br>\n",
    " &nbsp;&nbsp;&nbsp;&nbsp; b) Importing Methods Only <br>\n",
    " &nbsp;&nbsp;&nbsp;&nbsp; c) Using the 'as' Keyword <br>\n",
    " &nbsp;&nbsp;&nbsp;&nbsp; d) Creating a Module <br>\n",
    "5) Exercises <br>\n",
    " &nbsp;&nbsp;&nbsp;&nbsp; a) Build a Shopping Cart <br>\n",
    " &nbsp;&nbsp;&nbsp;&nbsp; b) Create Your Own Module <br>"
   ]
  },
  {
   "cell_type": "markdown",
   "metadata": {},
   "source": [
    "## Dictionary <br>\n",
    "<p>A collection of data with 'key:value' pairs. Dictionaries are ordered as of Python 3.6</p>"
   ]
  },
  {
   "cell_type": "markdown",
   "metadata": {},
   "source": [
    "##### Declaring (key, value)"
   ]
  },
  {
   "cell_type": "code",
   "execution_count": 15,
   "metadata": {},
   "outputs": [
    {
     "name": "stdout",
     "output_type": "stream",
     "text": [
      "{'Tom': '255 Main Street', 'Jerry': '256 Main Street', 0: 'This is a 0'}\n"
     ]
    }
   ],
   "source": [
    "# keys should be unique\n",
    "# can use numbers or strings as keys\n",
    "\n",
    "d_1 = {}\n",
    "\n",
    "# or\n",
    "\n",
    "d_2 = dict()\n",
    "\n",
    "# d_2[\"some\"] = \"value\"\n",
    "\n",
    "# print(d_2)\n",
    "\n",
    "\n",
    "d_3 = {\n",
    "    \"Tom\": \"255 Main Street\",\n",
    "    \"Jerry\": \"256 Main Street\",\n",
    "    0: \"This is a 0\"\n",
    "}\n",
    "\n",
    "print(d_3)\n",
    "\n",
    "\n",
    "\n"
   ]
  },
  {
   "cell_type": "markdown",
   "metadata": {},
   "source": [
    "##### Accessing Values"
   ]
  },
  {
   "cell_type": "code",
   "execution_count": 16,
   "metadata": {
    "scrolled": true
   },
   "outputs": [
    {
     "name": "stdout",
     "output_type": "stream",
     "text": [
      "255 Main Street\n",
      "256 Main Street\n",
      "This is a 0\n",
      "255 Main Street\n",
      "None\n",
      "257 Main St\n",
      "{'Tom': '255 Main Street', 'Jerry': '256 Main Street', 0: 'This is a 0'}\n"
     ]
    }
   ],
   "source": [
    "# dict[key]\n",
    "d_3 = {\n",
    "    \"Tom\": \"255 Main Street\",\n",
    "    \"Jerry\": \"256 Main Street\",\n",
    "    0: \"This is a 0\"\n",
    "}\n",
    "\n",
    "print(d_3['Tom'])\n",
    "print(d_3['Jerry'])\n",
    "print(d_3[0])\n",
    "\n",
    "#dict.get(key, value)\n",
    "address = d_3.get(\"Tom\")\n",
    "print(address)\n",
    "\n",
    "name = d_3.get(\"255 Main St\")\n",
    "print(name)\n",
    "\n",
    "# does add to dictionary but will return the value instead of none if the key is not found\n",
    "name2 = d_3.get(\"Spike\", \"257 Main St\")\n",
    "print(name2)\n",
    "\n",
    "print(d_3)"
   ]
  },
  {
   "cell_type": "code",
   "execution_count": 17,
   "metadata": {},
   "outputs": [
    {
     "name": "stdout",
     "output_type": "stream",
     "text": [
      "When i am super tired i will get a 20 oz americano\n",
      "Hello\n",
      "That peron's dog is really cute\n",
      "12 oz\n",
      "16 oz\n",
      "20 oz\n"
     ]
    }
   ],
   "source": [
    "drink_sizes = {\n",
    "    \"tall\" : \"12 oz\",\n",
    "    \"grande\" : \"16 oz\",\n",
    "    \"venti\" : \"20 oz\"\n",
    "}\n",
    "\n",
    "print(f'When i am super tired i will get a {drink_sizes[\"venti\"]} americano')\n",
    "\n",
    "print(\"Hello\")\n",
    "print('That peron\\'s dog is really cute')\n",
    "\n",
    "print(drink_sizes[\"tall\"])\n",
    "print(drink_sizes[\"grande\"])\n",
    "print(drink_sizes[\"venti\"])"
   ]
  },
  {
   "cell_type": "markdown",
   "metadata": {},
   "source": [
    "## In-Class Exercise #1 - Print a formatted statement from the dictionary below <br>\n",
    "<p>The output should be '2018 Chevrolet Silverado'</p>"
   ]
  },
  {
   "cell_type": "code",
   "execution_count": 18,
   "metadata": {},
   "outputs": [
    {
     "name": "stdout",
     "output_type": "stream",
     "text": [
      "2018 Chevrolet Silverado\n",
      "2018\n",
      "2018 Chevrolet Silverado\n",
      "Hello my dog's name is Eyo\n"
     ]
    }
   ],
   "source": [
    "# use the dict below\n",
    "truck = {\n",
    "    \"year\": 2018,\n",
    "    'make': 'Chevrolet',\n",
    "    'model': 'Silverado'\n",
    "}\n",
    "\n",
    "print(f'{truck[\"year\"]} {truck[\"make\"]} {truck[\"model\"]}')\n",
    "\n",
    "print(f\"{truck['year']}\")\n",
    "\n",
    "print(truck.get(\"year\"),truck.get(\"make\"),truck.get(\"model\"))\n",
    "\n",
    "my_string = 'Hello my dog\\'s name is Eyo'\n",
    "\n",
    "print(my_string)\n",
    "\n",
    "\n",
    "\n",
    "\n"
   ]
  },
  {
   "cell_type": "code",
   "execution_count": 19,
   "metadata": {},
   "outputs": [
    {
     "name": "stdout",
     "output_type": "stream",
     "text": [
      "Your car is a 2018 Chevrolet Silverado.\n"
     ]
    }
   ],
   "source": [
    "print(f\"Your car is a {truck['year']} {truck['make']} {truck['model']}.\")\n"
   ]
  },
  {
   "cell_type": "code",
   "execution_count": 20,
   "metadata": {},
   "outputs": [
    {
     "name": "stdout",
     "output_type": "stream",
     "text": [
      "Frodo drives a 2018 Chevrolet Silverado\n"
     ]
    }
   ],
   "source": [
    "print(\"Frodo drives a {year} {make} {model}\".format(**truck) )\n"
   ]
  },
  {
   "cell_type": "markdown",
   "metadata": {},
   "source": [
    "##### Adding New Pairs"
   ]
  },
  {
   "cell_type": "code",
   "execution_count": 21,
   "metadata": {},
   "outputs": [
    {
     "name": "stdout",
     "output_type": "stream",
     "text": [
      "{'Tom': '255 Main Street', 'Jerry': '256 Main Street', 0: 'This is a 0', 'Spike': '257 Main Street', 'Tike': '257 Main Street'}\n"
     ]
    }
   ],
   "source": [
    "# dict[key] = value\n",
    "d_3 = {\n",
    "    \"Tom\": \"255 Main Street\",\n",
    "    \"Jerry\": \"256 Main Street\",\n",
    "    0: \"This is a 0\"\n",
    "}\n",
    "\n",
    "d_3['Spike'] = '257 Main Street' #adding a value to the dictionary \n",
    "d_3['Tike'] = '257 Main Street'\n",
    "\n",
    "print(d_3)"
   ]
  },
  {
   "cell_type": "markdown",
   "metadata": {},
   "source": [
    "##### Modifying Values"
   ]
  },
  {
   "cell_type": "code",
   "execution_count": 22,
   "metadata": {},
   "outputs": [
    {
     "name": "stdout",
     "output_type": "stream",
     "text": [
      "{'Tom': '254 Main Street', 'Jerry': '254 Main Street', 0: 'This is a 0', 'Spike': '257 Main Street', 'Tike': '258 Main Street 60618'}\n"
     ]
    }
   ],
   "source": [
    "# dict[key] = value\n",
    "d_3['Tike'] = '258 Main Street'\n",
    "d_3['Tom'] = '254 Main Street'\n",
    "d_3['Jerry'] = '254 Main Street'\n",
    "\n",
    "d_3['Tike'] = d_3['Tike'] + \" 60618\"\n",
    "#'258 Main Street' = '258 Main Street' + ' 60618'\n",
    "\n",
    "\n",
    "print(d_3)"
   ]
  },
  {
   "cell_type": "code",
   "execution_count": 23,
   "metadata": {},
   "outputs": [
    {
     "name": "stdout",
     "output_type": "stream",
     "text": [
      "{1: 1}\n",
      "{1: 2}\n",
      "{1: 2, 3: 1}\n",
      "{1: 2, 3: 1, 4: 1}\n",
      "{1: 2, 3: 1, 4: 1, 6: 1}\n",
      "{1: 2, 3: 1, 4: 1, 6: 1, 7: 1}\n",
      "{1: 2, 3: 1, 4: 1, 6: 1, 7: 2}\n",
      "{1: 2, 3: 1, 4: 1, 6: 1, 7: 2, 10: 1}\n",
      "{1: 3, 3: 1, 4: 1, 6: 1, 7: 2, 10: 1}\n",
      "{1: 3, 3: 1, 4: 2, 6: 1, 7: 2, 10: 1}\n",
      "{1: 3, 3: 1, 4: 2, 6: 1, 7: 2, 10: 1, 5: 1}\n"
     ]
    }
   ],
   "source": [
    "my_list = [1, 1, 3, 4, 6, 7, 7, 10, 1, 4, 5]\n",
    "my_dict = {}\n",
    "for num in my_list:\n",
    "    if num not in my_dict:\n",
    "        my_dict[num] = 1\n",
    "        print(my_dict)\n",
    "    else:\n",
    "        my_dict[num] += 1\n",
    "        print(my_dict)\n",
    "\n",
    "    "
   ]
  },
  {
   "cell_type": "markdown",
   "metadata": {},
   "source": [
    "##### Removing Key, Value Pairs"
   ]
  },
  {
   "cell_type": "code",
   "execution_count": 24,
   "metadata": {},
   "outputs": [
    {
     "name": "stdout",
     "output_type": "stream",
     "text": [
      "{'Tom': '254 Main Street', 'Jerry': '254 Main Street', 0: 'This is a 0', 'Spike': '257 Main Street', 'Tike': '258 Main Street 60618'}\n",
      "{'Tom': '254 Main Street', 'Jerry': '254 Main Street', 'Spike': '257 Main Street', 'Tike': '258 Main Street 60618'}\n",
      "257 Main Street\n",
      "{'Tom': '254 Main Street', 'Jerry': '254 Main Street', 'Spike': '257 Main Street', 'Tike': '258 Maint St'}\n",
      "{'Tom': '254 Main St', 'Jerry': '254 Main St', 'Spike': '257 Main Street', 'Tike': '258 Maint St'}\n",
      "{'Tom': '254 Main St', 'Jerry': '254 Main St', 'Spike': '257 Main Street', 'Tike': '258 Maint St', 'Rooster': '259 Main St'}\n",
      "This address already exists, please do no overwrite\n",
      "{'Tom': '254 Main St', 'Jerry': '254 Main St', 'Spike': '257 Main Street', 'Tike': '258 Maint St', 'Rooster': '259 Main St'}\n",
      "True\n"
     ]
    }
   ],
   "source": [
    "# del dict[key]\n",
    "# del(my_list[0]) difference between list del and dict del is:\n",
    "# the list del(wraps the list in parentheses)\n",
    "\n",
    "print(d_3)\n",
    "\n",
    "del d_3[0] # <--- key not an index\n",
    "\n",
    "print(d_3)\n",
    "\n",
    "# dict[key] = value\n",
    "# looks exactly the same as adding values\n",
    "# the only difference is the key already exists in the dictionary\n",
    "# dict[key] give us a value in the dictionary\n",
    "\n",
    "# setting a variable to a value in a dictionary\n",
    "dog_address = d_3[\"Spike\"]\n",
    "print(dog_address)\n",
    "\n",
    "d_3[\"Tike\"] = \"258 Maint St\"\n",
    "print(d_3)\n",
    "d_3[\"Tom\"] = \"254 Main St\"\n",
    "d_3[\"Jerry\"] = \"254 Main St\"\n",
    "\n",
    "print(d_3)\n",
    "\n",
    "if \"259 Main St\" not in d_3:\n",
    "    d_3[\"Rooster\"] = \"259 Main St\"\n",
    "    \n",
    "else:\n",
    "    print(\"This already exists\")\n",
    "    \n",
    "print(d_3)\n",
    "\n",
    "if \"Tom\" not in d_3:\n",
    "    d_3[\"Tom\"] = \"254 Main St\"\n",
    "    print(\"added info\")\n",
    "else:\n",
    "    print(\"This address already exists, please do no overwrite\")\n",
    "print(d_3)\n",
    "\n",
    "if d_3[\"Tom\"]:\n",
    "    print(True)\n"
   ]
  },
  {
   "cell_type": "markdown",
   "metadata": {},
   "source": [
    "##### Looping a Dictionary"
   ]
  },
  {
   "cell_type": "code",
   "execution_count": 25,
   "metadata": {},
   "outputs": [
    {
     "name": "stdout",
     "output_type": "stream",
     "text": [
      "257 Main Street\n",
      "257 Main St\n",
      "300 Blossom Rd\n",
      "300 Blossom Rd\n",
      "\n",
      "\n",
      "{'Tom': '254 Main St', 'Jerry': '254 Main St', 'Spike': '300 Blossom Rd', 'Tike': '258 Maint St', 'Rooster': '259 Main St'}\n",
      "dict_items([('Tom', '254 Main St'), ('Jerry', '254 Main St'), ('Spike', '300 Blossom Rd'), ('Tike', '258 Maint St'), ('Rooster', '259 Main St')])\n",
      "\n",
      "\n",
      "Tom 254 Main St\n",
      "Jerry 254 Main St\n",
      "Spike 300 Blossom Rd\n",
      "Tike 258 Maint St\n",
      "Rooster 259 Main St\n",
      "Tom\n",
      "Jerry\n"
     ]
    }
   ],
   "source": [
    "print(d_3[\"Spike\"])\n",
    "address = \"257 Main St\"\n",
    "print(address)\n",
    "\n",
    "d_3[\"Spike\"] = \"300 Blossom Rd\"\n",
    "print(d_3[\"Spike\"]) \n",
    "\n",
    "address = \"300 Blossom Rd\"\n",
    "print(address)\n",
    "print('\\n')\n",
    "\n",
    "# dict.items()\n",
    "# a, b, c = 1, 2, 3\n",
    "print(d_3)\n",
    "d_3_items = d_3.items()\n",
    "print(d_3_items)\n",
    "print(\"\\n\")\n",
    "#  key, value\n",
    "for k, v in d_3.items():\n",
    "    print(k, v)\n",
    "    \n",
    "# referencing a key from the value    \n",
    "for k, v in d_3.items():\n",
    "    if v == \"254 Main St\":\n",
    "        print(k)"
   ]
  },
  {
   "cell_type": "code",
   "execution_count": 26,
   "metadata": {},
   "outputs": [
    {
     "name": "stdout",
     "output_type": "stream",
     "text": [
      " Tom lives at 254 Main St\n",
      " Jerry lives at 254 Main St\n",
      " Spike lives at 300 Blossom Rd\n",
      " Tike lives at 258 Maint St\n",
      " Rooster lives at 259 Main St\n"
     ]
    }
   ],
   "source": [
    "# .items()\n",
    "# a, b, c = 1, 2, 3\n",
    "for name, address in d_3.items():\n",
    "    print(f\" {name} lives at {address}\")\n"
   ]
  },
  {
   "cell_type": "markdown",
   "metadata": {},
   "source": [
    "##### Looping Only Keys"
   ]
  },
  {
   "cell_type": "code",
   "execution_count": 27,
   "metadata": {},
   "outputs": [
    {
     "name": "stdout",
     "output_type": "stream",
     "text": [
      "Tom\n",
      "Jerry\n",
      "Spike\n",
      "Tike\n",
      "Rooster\n",
      "\n",
      "\n",
      "Tom\n",
      "Jerry\n",
      "Spike\n",
      "Tike\n",
      "Rooster\n",
      "Hello\n",
      "\n",
      "\n",
      "Tom\n",
      "Jerry\n",
      "Spike\n",
      "Tike\n",
      "Rooster\n"
     ]
    }
   ],
   "source": [
    "# .keys()\n",
    "\n",
    "for key in d_3:\n",
    "    print(key)\n",
    "    \n",
    "print(\"\\n\") \n",
    "\n",
    "for name in d_3.keys():\n",
    "    print(name)\n",
    "\n",
    "def my_func():\n",
    "    print(\"Hello\")\n",
    "my_func()\n",
    "\n",
    "print(\"\\n\")\n",
    "# by default you will loop through a dictionary's keys\n",
    "for k in d_3:\n",
    "    print(k)"
   ]
  },
  {
   "cell_type": "markdown",
   "metadata": {},
   "source": [
    "##### Looping Only Values"
   ]
  },
  {
   "cell_type": "code",
   "execution_count": 28,
   "metadata": {
    "scrolled": true
   },
   "outputs": [
    {
     "name": "stdout",
     "output_type": "stream",
     "text": [
      "254 Main St\n",
      "254 Main St\n",
      "300 Blossom Rd\n",
      "258 Maint St\n",
      "259 Main St\n"
     ]
    }
   ],
   "source": [
    "# .values()\n",
    "\n",
    "for address in d_3.values():\n",
    "    if address == \"254 Main Street\":\n",
    "        print(\"Tom Lives Here\")\n",
    "    elif address == \"257 Main Street\":\n",
    "        d_3[\"Spike\"] = d_3['Spike'] + ' 60618'\n",
    "        print(d_3['Spike'])\n",
    "    else: \n",
    "        print(address)\n"
   ]
  },
  {
   "cell_type": "markdown",
   "metadata": {},
   "source": [
    "## In-Class Exercise #2 - Create a Function that Prints All Key Value Pairs within a formatted string  <br>\n",
    "<p><b>Output should be:</b><br>\n",
    "Max has blue eyes<br>\n",
    "Lilly has brown eyes<br>\n",
    "Barney has blue eyes<br>\n",
    "etc.\n",
    "</p>"
   ]
  },
  {
   "cell_type": "code",
   "execution_count": 29,
   "metadata": {},
   "outputs": [
    {
     "name": "stdout",
     "output_type": "stream",
     "text": [
      "Max has blue eyes\n",
      "Lilly has brown eyes\n",
      "Barney has green eyes\n",
      "Ted has purple eyes\n",
      "Sasuke has sharingan eyes\n",
      "\n",
      "\n",
      "\n",
      "\n",
      "Max has blue eyes.\n",
      "Lilly has brown eyes.\n",
      "Barney has blue eyes.\n",
      "Itachi has Genjutsu eyes.\n",
      "Sasuke has Sharingon eyes.\n",
      "Naruto has Nine Tails eyes.\n",
      "Jiraya has closed eyes.\n",
      "Pain has Pain eyes.\n",
      "Orochimaru has Sasuke in his eyes.\n",
      "Kabuto has Orochimaru in his eyes.\n",
      "Madara has the world in his eyes.\n",
      "\n",
      "\n",
      "dict_items([('Max', 'blue'), ('Lilly', 'brown'), ('Barney', 'green'), ('Ted', 'purple'), ('Sasuke', 'sharingan')])\n",
      "Max\n",
      "blue\n",
      "Lilly\n",
      "brown\n",
      "Barney\n",
      "green\n",
      "Ted\n",
      "purple\n",
      "Sasuke\n",
      "sharingan\n",
      "Max has blue eyes\n",
      "Lilly has brown eyes\n",
      "Barney has green eyes\n",
      "Ted has purple eyes\n",
      "Sasuke has sharingan eyes\n",
      "('Max', 'blue')\n",
      "('Lilly', 'brown')\n",
      "('Barney', 'green')\n",
      "('Ted', 'purple')\n",
      "('Sasuke', 'sharingan')\n",
      "\n",
      "\n",
      "Max blue\n",
      "Lilly brown\n",
      "Barney green\n",
      "Ted purple\n",
      "Sasuke sharingan\n",
      "\n",
      "\n",
      "Max has blue eyes\n",
      "Lilly has brown eyes\n",
      "Barney has green eyes\n",
      "Ted has purple eyes\n",
      "Sasuke has sharingan eyes\n"
     ]
    }
   ],
   "source": [
    "# use the dict below\n",
    "people = {\n",
    "    'Max' : 'blue',\n",
    "    'Lilly' : 'brown',\n",
    "    'Barney' : 'green',\n",
    "    'Ted' : 'purple',\n",
    "    'Sasuke' : 'sharingan'    \n",
    "} \n",
    "\n",
    "for key, value in people.items():\n",
    "    print(f\"{key} has {value} eyes\")\n",
    "print('\\n')\n",
    "\n",
    "def PeopleName(dict):\n",
    "    for key, value in dict:\n",
    "        print(f\"{key} has {value} eyes\")\n",
    "print('\\n')\n",
    "\n",
    "def print_info(info_dict):\n",
    "    for name, attribute in info_dict.items():\n",
    "        print(\"{} has {} eyes.\".format(name, attribute))\n",
    "\n",
    "info = {\n",
    "    \"Max\": \"blue\",\n",
    "    \"Lilly\": \"brown\",\n",
    "    \"Barney\": \"blue\",\n",
    "    \"Itachi\": \"Genjutsu\",\n",
    "    \"Sasuke\": \"Sharingon\",\n",
    "    \"Naruto\": \"Nine Tails\",\n",
    "    \"Jiraya\":\"closed\",\n",
    "    \"Pain\": \"Pain\",\n",
    "    \"Orochimaru\": \"Sasuke in his\",\n",
    "    \"Kabuto\":\"Orochimaru in his\",\n",
    "    \"Madara\": \"the world in his\",\n",
    "}\n",
    "\n",
    "print_info(info)\n",
    "\n",
    "print('\\n')\n",
    "\n",
    "# use the dict below\n",
    "people = {\n",
    "    'Max' : 'blue',\n",
    "    'Lilly' : 'brown',\n",
    "    'Barney' : 'green',\n",
    "    'Ted' : 'purple',\n",
    "    'Sasuke' : 'sharingan'    \n",
    "} \n",
    "\n",
    "print(people.items())\n",
    "\n",
    "\n",
    "for k, v in people.items():\n",
    "    print(k)\n",
    "    print(v)\n",
    "\n",
    "for key, value in people.items():\n",
    "        print(f\"{key} has {value} eyes\")\n",
    "\n",
    "for group in people.items():\n",
    "    print(group)\n",
    "print(\"\\n\")\n",
    "\n",
    "for name, color in people.items():\n",
    "    print(name, color)\n",
    "    \n",
    "print(\"\\n\")\n",
    "for name, color in people.items():\n",
    "    print(f\"{name} has {color} eyes\")\n"
   ]
  },
  {
   "cell_type": "code",
   "execution_count": 30,
   "metadata": {},
   "outputs": [
    {
     "name": "stdout",
     "output_type": "stream",
     "text": [
      "Max has blue colored eyes\n",
      "Lilly has brown colored eyes\n",
      "Barney has green colored eyes\n",
      "Ted has purple colored eyes\n",
      "Sasuke has sharingan colored eyes\n"
     ]
    }
   ],
   "source": [
    "# people = {\n",
    "#      'Max':'blue',\n",
    "#      'Lilly':'brown',\n",
    "#      'Barney':'green',\n",
    "#      'Ted':'purple'\n",
    "#  }\n",
    "    \n",
    "for person, eye_color in people.items():\n",
    "    print(f\"{person} has {eye_color} colored eyes\")\n"
   ]
  },
  {
   "cell_type": "code",
   "execution_count": 31,
   "metadata": {},
   "outputs": [
    {
     "name": "stdout",
     "output_type": "stream",
     "text": [
      "Max has blue eyes!\n",
      "Lilly has brown eyes!\n",
      "Barney has green eyes!\n",
      "Ted has purple eyes!\n",
      "Sasuke has sharingan eyes!\n"
     ]
    }
   ],
   "source": [
    "for person, eye_color in people.items():\n",
    "    print(f\"{person} has {eye_color} eyes!\")\n"
   ]
  },
  {
   "cell_type": "code",
   "execution_count": 32,
   "metadata": {},
   "outputs": [
    {
     "name": "stdout",
     "output_type": "stream",
     "text": [
      "Max has blue eyes\n",
      "Lilly has brown eyes\n",
      "Barney has green eyes\n",
      "Ted has purple eyes\n",
      "Sasuke has sharingan eyes\n"
     ]
    }
   ],
   "source": [
    "def eyes(d):\n",
    "    for k,v in d.items():\n",
    "        print(f\"{k} has {v} eyes\")\n",
    "    \n",
    "eyes(people)\n"
   ]
  },
  {
   "cell_type": "markdown",
   "metadata": {},
   "source": [
    "##### sorted()"
   ]
  },
  {
   "cell_type": "code",
   "execution_count": 33,
   "metadata": {},
   "outputs": [
    {
     "name": "stdout",
     "output_type": "stream",
     "text": [
      "[('Barney', 'green'), ('Lilly', 'brown'), ('Max', 'blue'), ('Sasuke', 'sharingan'), ('Ted', 'purple')]\n",
      "('Barney', 'green')\n",
      "green\n"
     ]
    }
   ],
   "source": [
    "# sorts variables in order\n",
    "# sorted(dict.values()) or dict.keys() or dict.items()\n",
    "people = {\n",
    "    'Max' : 'blue',\n",
    "    'Lilly' : 'brown',\n",
    "    'Barney' : 'green',\n",
    "    'Ted' : 'purple',\n",
    "    'Sasuke' : 'sharingan'    \n",
    "} \n",
    "# print(\"Values\", sorted(people.values()))\n",
    "# print(\"Keys\", sorted(people.keys()))\n",
    "# print(\"Key, Value Pairs\", sorted(people.items()))\n",
    "\n",
    "# print(sorted(people.items())[1][0])\n",
    "\n",
    "sorted_items = sorted(people.items())\n",
    "print(sorted_items)\n",
    "\n",
    "print(sorted_items[0])\n",
    "print(sorted_items[0][1])\n"
   ]
  },
  {
   "cell_type": "markdown",
   "metadata": {},
   "source": [
    "##### List with Dictionaries"
   ]
  },
  {
   "cell_type": "code",
   "execution_count": 34,
   "metadata": {},
   "outputs": [
    {
     "name": "stdout",
     "output_type": "stream",
     "text": [
      "Gaara\n",
      "{'leaf_village': 'Naruto', 'leaf_village2': 'Kakashi'}\n",
      "{'leaf_village': 'Naruto', 'leaf_village2': 'Kakashi'}\n",
      "Kakashi\n",
      "Shikamaru\n",
      "Gaara\n",
      "OctoPops\n",
      "\n",
      "\n",
      "Shikamaru\n",
      "Gaara\n",
      "\n",
      "\n",
      "Shikamaru\n",
      "Gaara\n",
      "OctoPops\n",
      "\n",
      "\n",
      "Shikamaru\n",
      "Gaara\n"
     ]
    }
   ],
   "source": [
    "shinobi = [\"Shikamaru\", \"Gaara\", \"OcotoPops\", {\"leaf_village\": \"Naruto\", \"leaf_village2\" : \"Kakashi\"}]\n",
    "\n",
    "print(shinobi[1])\n",
    "\n",
    "print(shinobi[3])\n",
    "\n",
    "#or\n",
    "\n",
    "print(shinobi[-1])\n",
    "\n",
    "print(shinobi[3][\"leaf_village2\"])\n",
    "\n",
    "shinobi = [\"Shikamaru\", \"Gaara\", \"OctoPops\"]\n",
    "for name in shinobi:\n",
    "    print(name)\n",
    "print(\"\\n\")\n",
    "print(shinobi[0])\n",
    "print(shinobi[1])\n",
    "print(\"\\n\")\n",
    "\n",
    "shinobi = [\"Shikamaru\", \"Gaara\", \"OctoPops\"]\n",
    "for name in shinobi:\n",
    "    print(name)\n",
    "print(\"\\n\")\n",
    "print(shinobi[0])\n",
    "print(shinobi[1])\n",
    "\n",
    "\n"
   ]
  },
  {
   "cell_type": "code",
   "execution_count": 35,
   "metadata": {},
   "outputs": [
    {
     "name": "stdout",
     "output_type": "stream",
     "text": [
      "['Dave', 'Sandy', 'Tony', {'random_person': 'Barb', 'random_person2': 'Bart'}, 'Ryan']\n",
      "Tony\n",
      "Ryan\n",
      "{'random_person': 'Barb', 'random_person2': 'Bart'}\n",
      "Bart\n",
      "dict_keys(['random_person', 'random_person2'])\n",
      "random_person\n",
      "random_person2\n"
     ]
    },
    {
     "data": {
      "text/plain": [
       "'Barb'"
      ]
     },
     "execution_count": 35,
     "metadata": {},
     "output_type": "execute_result"
    }
   ],
   "source": [
    "names = [\"Dave\", \"Sandy\", \"Tony\", {\"random_person\" : \"Barb\", \"random_person2\" : \"Bart\"}, \"Ryan\"]\n",
    "\n",
    "print(names)\n",
    "\n",
    "print(names[2])\n",
    "\n",
    "print(names[-1])\n",
    "\n",
    "print(names[3])\n",
    "\n",
    "print(names[3]['random_person2'])\n",
    "\n",
    "print(names[3].keys())\n",
    "\n",
    "for person in names[3].keys():\n",
    "    print(person)\n",
    "    \n",
    "\n",
    "names[3].get('random_person')"
   ]
  },
  {
   "cell_type": "markdown",
   "metadata": {},
   "source": [
    "##### Dictionaries with Lists"
   ]
  },
  {
   "cell_type": "code",
   "execution_count": 36,
   "metadata": {},
   "outputs": [
    {
     "name": "stdout",
     "output_type": "stream",
     "text": [
      "54\n",
      "John\n",
      "Laura\n",
      "Bulbasaur\n"
     ]
    }
   ],
   "source": [
    "# be careful when using numbers as keys in dictionaries, don't confuse them with indexes\n",
    "random_data = {\n",
    "    \"list_1\": [54, 65, 90],\n",
    "    \"names\": ['John', 'Laura', \"Bulbasaur\"]    \n",
    "}\n",
    "\n",
    "print(random_data[\"list_1\"][0])\n",
    "\n",
    "for name in random_data['names']:\n",
    "    print(name)\n"
   ]
  },
  {
   "cell_type": "markdown",
   "metadata": {},
   "source": [
    "##### Dictionaries with Dictionaries"
   ]
  },
  {
   "cell_type": "code",
   "execution_count": 37,
   "metadata": {
    "scrolled": true
   },
   "outputs": [
    {
     "name": "stdout",
     "output_type": "stream",
     "text": [
      "{'Ryan': {'Mexican': ['Tacos', 'Tortas', 'Conchas'], 'Desserts': ['Cheesecake', 'Pie', 'Chocolate Chip Cookies', 'Cupcakes']}, 'Javier': {'Dominican': ['Mango', 'PassionFruit', 'Flan'], 'American': ['Chicken', 'Gravy', 'Mashed Potatos']}, 'Miguel': {'Vegan': ['Beans', 'Fruits', 'Vegetables'], 'Desserts': ['peanuts', 'cookies', 'popcorn', 'soda']}, 'Grace': {'Indian Food': ['Palak Paneer', 'Naan', 'Chana Masala'], 'Desserts': ['Lemon Bars', 'Cheesecake', 'Pies']}, 'Anthony': {'Spanish': ['Tacos', 'Mofongo', 'Papusas'], 'Desserts': ['Cheescake', 'Flan', 'Oreos', 'M&Ms']}, 'Bikram': {'Food': ['Pasta', 'Fried Chicken', 'Rice'], 'Desserts': ['Chocolate Cake', 'Ice CreamDunots']}, 'Juan': {'Mexican Seafood': ['Langostinos', 'Ceviche', 'Chapuzon'], 'Desserts': ['Cheesecake', 'Flan', 'Brownies']}, 'Connor': {'Pasta': ['penne', 'spagetti', 'farfelle'], 'Pizza': ['Chicago Style pizza', 'Detroit Style Pizza (best pizza)', 'New York Pizza'], 'Cake': ['Cheesecake (best)', 'Carrot Cake', 'Chocholate Pican Cake']}, 'Justin': {'Vietnamese': ['Pho', 'Banh Mi', 'Bun Bo Hue'], 'Fruits': ['Apple', 'Pear', 'Grapes', 'Jackfruit']}, 'Claudel': {'Haitian': ['kalalou', 'tchaka', 'bouton'], 'desert': ['kremas', 'bonbonsiwo', 'dousmakos']}, 'Andres': {'Italian': ['Pasta', 'Raviolis', 'Pizza'], 'Desserts': ['Ice cream', 'Cookies', 'Brownies', 'Waffle']}, 'Berik': {'Kazakh': ['Beshbarmak', 'Kuyrdak', 'Kebab'], 'Deserts': ['Kaymak', 'Medovik', 'Tort']}, 'Wil': {'beef': ['tacos', 'torta', 'queso'], 'eggs': ['over_easy', 'over_less_easy', 'with_queso']}, 'Dez': {'Korean': ['Bibimbop', 'Kimchi', 'Samgyeopsa', 'Tteokbokki', 'Bulgogi']}, 'Kym': {'Asian': ['Ramen', 'Sushi', 'Fried Noodles'], 'Desserts': ['Dark_chocalate', 'Ice cream', 'honeycake']}}\n"
     ]
    }
   ],
   "source": [
    "# to get values, must traverse through keys\n",
    "\n",
    "\n",
    "# print(\"\\nHere are all foods listed: \\n\")\n",
    "# for name in food_dict.keys():\n",
    "#     print(f\"\\n{name}'s favorite foods are: \")\n",
    "#     for food_type in food_dict[name].keys():\n",
    "#         for food in food_dict[name][food_type]:\n",
    "#             print(food)\n",
    "        \n",
    "# food_dict = {\n",
    "#     \"Ryan\": {\n",
    "#         \"Mexican\": [\"Tacos\", \"Tortas\", \"Arroz\"],\n",
    "#         \"Desserts\": [\"Cheesecake\", \"Cupcakes\", \"Pie\", \"Cookies\"]\n",
    "#     },\n",
    "#     \"James\": {\n",
    "#         \"Main Course\": [\"Meatloaf\", \"Beef Stroganoff\", \"Chicken Stuffing Broccoli Casserole\"],\n",
    "#         \"Desserts\": [\"Crumb Nutty Pie\", \"Moon Pie\", \"Pink Salad\"]\n",
    "#     },\n",
    "#     \"Nate\": {\n",
    "#         \"favorite_dinner\": ['Hibachi', 'Mexican', 'Italian'],\n",
    "#         \"favorite_dessert\": ['Pazooki', 'Red Velvet Cake', \"Pumpkin Pie\" ]\n",
    "#     },\n",
    "#     \"Tenzin\": {\n",
    "#         \"Indian\": [\"Dumplings\",\"Naan\",\"Tandoori\"],\n",
    "#         \"Mexican\": [\"Nachos\", \"Empanadas\",\"Burrito\"]\n",
    "#     },\n",
    "#     \"Dylan\" : {\n",
    "#         \"Sushi\" : [\"Fatty Tuna\", \"Unagi\", \"Crab Roll\"],\n",
    "#         \"Soup\" : [\"Miso\", \"Potato\", \"Wonton\"] \n",
    "#     },\n",
    "#     \"Jeong\": {\n",
    "#         \"Japanese\": [\"Sushi\", \"Katsu\", \"Ramen\"],\n",
    "#         \"Korean\": [\"KBBQ\", \"Stew\", \"Porridge\", \"K-Chicken\"],\n",
    "#         \"Deserts\": [\"Bouncy Cheesecake\", \"Ice Cream\"]\n",
    "    # },\n",
    "    # \"John\": {\n",
    "    #     \"Japanese\": [\"Sushi\", \"Takoyaki\", \"Ramen\"],\n",
    "    #     \"American\": [\"Cheeseburger\", \"Crabcake\"],\n",
    "    #     \"Desserts\": [\"Pie\", \"Ice Cream\"]\n",
    "    # },\n",
    "    # \"Mike\": {        \n",
    "    #     \"Indian\": [\"Curry\", \"Tikka\", \"Chana\"],\n",
    "    #     \"Desserts\":[\"Applepie\", \"Pecanpie\", \"Carrotcake\"]       \n",
    "        \n",
    "    # },\n",
    "    # \"Sam\": {\n",
    "    #     \"Meals\": [\"Pizza\", \"Wendy's 4 for 4\", \"Pasta\", \"Hoagies\"],\n",
    "    #     \"Veggies\": [\"cucumbers\", \"avocados\", \"tomatoes\", \"carrots\"]\n",
    "    # },\n",
    "    \n",
    "    # 'Kayla':{\n",
    "    #     'Asian': ['Ramen', 'Bulgogi', 'HotPot'],\n",
    "    #     'Desserts': ['Chocolate', 'WaterGateSalad', 'Icecream']\n",
    "    # }\n",
    "    # ,\n",
    "    # \"Austin\": {\n",
    "    #      \"Mexican\":[\"Ceviche\",\"Shrimp Chimichanga\"],\n",
    "         # \"Fast Food\": [\"Chipolte\", \"Chic-Fil-a\"],\n",
    "#          \"Japanese\": [\"Nigri\", \"Sashimi(Eel)\"]\n",
    "#     },\n",
    "#     \"Mohammad\": {\n",
    "#         \"Food\":[\"Pasta\", \"Fried Chicken\" , \"Tacos\"],\n",
    "#         \"Desserts\":[\"Chocolate Cake\" ,\"Ice Cream\"]\n",
    "#     },\n",
    "#     \"Alex\": {\n",
    "#         \"Hispanic\" : ['tacos', 'pupusas', 'tomales'],\n",
    "#         'Desserts': ['cheesecake','ice cream', 'tarimasu'],\n",
    "#         'Cajun': ['gumbo','poboy','jambalaya']\n",
    "#     }\n",
    "        \n",
    "\n",
    "# }\n",
    "\n",
    "# print(food_dict)\n",
    "# print('\\n ')\n",
    "\n",
    "\n",
    "\n",
    "food_dict = {\n",
    "    \"Ryan\": {\n",
    "    \"Mexican\": [\"Tacos\", \"Tortas\", \"Conchas\"],\n",
    "    \"Desserts\": [\"Cheesecake\", \"Pie\", \"Chocolate Chip Cookies\", \"Cupcakes\"]\n",
    "    },\n",
    "    \"Javier\": {\n",
    "    \"Dominican\": [\"Mango\", \"PassionFruit\", \"Flan\"],\n",
    "    \"American\": [\"Chicken\", \"Gravy\", \"Mashed Potatos\"]\n",
    "    },\n",
    "    \"Miguel\": {\n",
    "    \"Vegan\": [\"Beans\", \"Fruits\", \"Vegetables\"],\n",
    "    \"Desserts\": [\"peanuts\", \"cookies\", \"popcorn\", \"soda\"]\n",
    "    },\n",
    "    \"Grace\": {\n",
    "    \"Indian Food\" : [\"Palak Paneer\", \"Naan\", \"Chana Masala\"],\n",
    "    \"Desserts\" : [\"Lemon Bars\", \"Cheesecake\", \"Pies\"]\n",
    "    },\n",
    "    \"Anthony\":{\n",
    "    \"Spanish\":[\"Tacos\",\"Mofongo\", \"Papusas\"],\n",
    "    \"Desserts\":[\"Cheescake\", \"Flan\", \"Oreos\", \"M&Ms\"]\n",
    "    },\n",
    "    \"Bikram\" :  {\n",
    "    \"Food\":[\"Pasta\", \"Fried Chicken\" , \"Rice\"],\n",
    "        \"Desserts\":[\"Chocolate Cake\" ,\"Ice Cream\" \"Dunots\"]  \n",
    "    },\n",
    "    \"Juan\": {\n",
    "    \"Mexican Seafood\": [\"Langostinos\", \"Ceviche\", \"Chapuzon\"],\n",
    "    \"Desserts\": [\"Cheesecake\", \"Flan\", \"Brownies\"]\n",
    "    },\n",
    "    \"Connor\":{\n",
    "    \"Pasta\": [\"penne\", \"spagetti\",\"farfelle\"],\n",
    "    \"Pizza\" : [\"Chicago Style pizza\", \"Detroit Style Pizza (best pizza)\", \"New York Pizza\"],\n",
    "    \"Cake\": [\"Cheesecake (best)\", \"Carrot Cake\", \"Chocholate Pican Cake\"]\n",
    "    },\n",
    "    \"Justin\": {\n",
    "    \"Vietnamese\" : [\"Pho\", \"Banh Mi\", \"Bun Bo Hue\"],\n",
    "    \"Fruits\" : [\"Apple\", \"Pear\", \"Grapes\", \"Jackfruit\"]\n",
    "    },\n",
    "    \"Claudel\": {\"Haitian\": [\"kalalou\", \"tchaka\", \"bouton\"],\n",
    "                  \"desert\": [\"kremas\", \"bonbonsiwo\", \"dousmakos\"]\n",
    "               },\n",
    "    \"Andres\": {\n",
    "        \"Italian\": [\"Pasta\", \"Raviolis\", \"Pizza\"],\n",
    "        \"Desserts\": [\"Ice cream\", \"Cookies\", \"Brownies\", \"Waffle\"]\n",
    "    },\n",
    "    \"Berik\": {\n",
    "    \"Kazakh\": [\"Beshbarmak\", \"Kuyrdak\", \"Kebab\"],\n",
    "    \"Deserts\" : [\"Kaymak\", \"Medovik\", \"Tort\"]},\n",
    "    \"Wil\" : {\n",
    "    \"beef\": [\"tacos\",\"torta\",\"queso\"],\n",
    "    \"eggs\": [\"over_easy\",\"over_less_easy\",\"with_queso\"]},\n",
    "    \"Dez\": {\n",
    "        \"Korean\" : ['Bibimbop', 'Kimchi', 'Samgyeopsa', 'Tteokbokki', 'Bulgogi']\n",
    "    },\n",
    "    \"Kym\": {\n",
    "    \"Asian\": [\"Ramen\", \"Sushi\", \"Fried Noodles\"],\n",
    "    \"Desserts\": [\"Dark_chocalate\", \"Ice cream\",\"honeycake\"]}, \n",
    "    \n",
    "    \n",
    "}\n",
    "print(food_dict)\n",
    "    \n",
    "\n",
    "\n",
    "\n",
    "\n",
    "\n",
    "\n",
    "\n",
    "\n",
    "\n",
    "\n",
    "\n",
    "\n",
    "\n",
    "\n",
    "\n",
    "\n",
    "\n",
    "\n",
    "\n"
   ]
  },
  {
   "cell_type": "code",
   "execution_count": 38,
   "metadata": {},
   "outputs": [
    {
     "name": "stdout",
     "output_type": "stream",
     "text": [
      "Here are all of our favorite foods!\n",
      "\n",
      "Ryan's favorites foods are: \n",
      "Tacos\n",
      "Tortas\n",
      "Conchas\n",
      "Cheesecake\n",
      "Pie\n",
      "Chocolate Chip Cookies\n",
      "Cupcakes\n",
      "\n",
      "Javier's favorites foods are: \n",
      "Mango\n",
      "PassionFruit\n",
      "Flan\n",
      "Chicken\n",
      "Gravy\n",
      "Mashed Potatos\n",
      "\n",
      "Miguel's favorites foods are: \n",
      "Beans\n",
      "Fruits\n",
      "Vegetables\n",
      "peanuts\n",
      "cookies\n",
      "popcorn\n",
      "soda\n",
      "\n",
      "Grace's favorites foods are: \n",
      "Palak Paneer\n",
      "Naan\n",
      "Chana Masala\n",
      "Lemon Bars\n",
      "Cheesecake\n",
      "Pies\n",
      "\n",
      "Anthony's favorites foods are: \n",
      "Tacos\n",
      "Mofongo\n",
      "Papusas\n",
      "Cheescake\n",
      "Flan\n",
      "Oreos\n",
      "M&Ms\n",
      "\n",
      "Bikram's favorites foods are: \n",
      "Pasta\n",
      "Fried Chicken\n",
      "Rice\n",
      "Chocolate Cake\n",
      "Ice CreamDunots\n",
      "\n",
      "Juan's favorites foods are: \n",
      "Langostinos\n",
      "Ceviche\n",
      "Chapuzon\n",
      "Cheesecake\n",
      "Flan\n",
      "Brownies\n",
      "\n",
      "Connor's favorites foods are: \n",
      "penne\n",
      "spagetti\n",
      "farfelle\n",
      "Chicago Style pizza\n",
      "Detroit Style Pizza (best pizza)\n",
      "New York Pizza\n",
      "Cheesecake (best)\n",
      "Carrot Cake\n",
      "Chocholate Pican Cake\n",
      "\n",
      "Justin's favorites foods are: \n",
      "Pho\n",
      "Banh Mi\n",
      "Bun Bo Hue\n",
      "Apple\n",
      "Pear\n",
      "Grapes\n",
      "Jackfruit\n",
      "\n",
      "Claudel's favorites foods are: \n",
      "kalalou\n",
      "tchaka\n",
      "bouton\n",
      "kremas\n",
      "bonbonsiwo\n",
      "dousmakos\n",
      "\n",
      "Andres's favorites foods are: \n",
      "Pasta\n",
      "Raviolis\n",
      "Pizza\n",
      "Ice cream\n",
      "Cookies\n",
      "Brownies\n",
      "Waffle\n",
      "\n",
      "Berik's favorites foods are: \n",
      "Beshbarmak\n",
      "Kuyrdak\n",
      "Kebab\n",
      "Kaymak\n",
      "Medovik\n",
      "Tort\n",
      "\n",
      "Wil's favorites foods are: \n",
      "tacos\n",
      "torta\n",
      "queso\n",
      "over_easy\n",
      "over_less_easy\n",
      "with_queso\n",
      "\n",
      "Dez's favorites foods are: \n",
      "Bibimbop\n",
      "Kimchi\n",
      "Samgyeopsa\n",
      "Tteokbokki\n",
      "Bulgogi\n",
      "\n",
      "Kym's favorites foods are: \n",
      "Ramen\n",
      "Sushi\n",
      "Fried Noodles\n",
      "Dark_chocalate\n",
      "Ice cream\n",
      "honeycake\n"
     ]
    }
   ],
   "source": [
    "# printing everyone's favorite foods\n",
    "print(\"Here are all of our favorite foods!\")\n",
    "for name in food_dict.keys():\n",
    "    print(f\"\\n{name}'s favorites foods are: \")\n",
    "    for food_type in food_dict[name].keys():\n",
    "        for food in food_dict[name][food_type]:\n",
    "            print(food)\n"
   ]
  },
  {
   "cell_type": "code",
   "execution_count": 39,
   "metadata": {},
   "outputs": [
    {
     "name": "stdout",
     "output_type": "stream",
     "text": [
      "Ryan\n",
      "Javier\n",
      "Miguel\n",
      "Grace\n",
      "Anthony\n",
      "Bikram\n",
      "Juan\n",
      "Connor\n",
      "Justin\n",
      "Claudel\n",
      "Andres\n",
      "Berik\n",
      "Wil\n",
      "Dez\n",
      "Kym\n"
     ]
    }
   ],
   "source": [
    "# looping through the keys in food_dict\n",
    "for person in food_dict: #food_dict.keys() is the same as looping through food_dict\n",
    "    print(person)"
   ]
  },
  {
   "cell_type": "code",
   "execution_count": null,
   "metadata": {},
   "outputs": [],
   "source": []
  },
  {
   "cell_type": "code",
   "execution_count": 40,
   "metadata": {},
   "outputs": [
    {
     "ename": "AttributeError",
     "evalue": "'dict_keys' object has no attribute 'keys'",
     "output_type": "error",
     "traceback": [
      "\u001b[0;31m---------------------------------------------------------------------------\u001b[0m",
      "\u001b[0;31mAttributeError\u001b[0m                            Traceback (most recent call last)",
      "Cell \u001b[0;32mIn[40], line 1\u001b[0m\n\u001b[0;32m----> 1\u001b[0m \u001b[38;5;28;01mfor\u001b[39;00m genre \u001b[38;5;129;01min\u001b[39;00m \u001b[43mfood_dict\u001b[49m\u001b[38;5;241;43m.\u001b[39;49m\u001b[43mkeys\u001b[49m\u001b[43m(\u001b[49m\u001b[43m)\u001b[49m\u001b[38;5;241;43m.\u001b[39;49m\u001b[43mkeys\u001b[49m():\n\u001b[1;32m      2\u001b[0m     \u001b[38;5;28mprint\u001b[39m(genre)\n",
      "\u001b[0;31mAttributeError\u001b[0m: 'dict_keys' object has no attribute 'keys'"
     ]
    }
   ],
   "source": [
    "\n",
    "for genre in food_dict.keys().keys():\n",
    "    print(genre)"
   ]
  },
  {
   "cell_type": "code",
   "execution_count": 41,
   "metadata": {},
   "outputs": [
    {
     "name": "stdout",
     "output_type": "stream",
     "text": [
      "Ryan's favorite desserts are: Cheesecake, Pie, Chocolate Chip Cookies, Cupcakes, \n"
     ]
    }
   ],
   "source": [
    "#Print Ryan's Desserts\n",
    "dessert_string = \"Ryan's favorite desserts are: \"\n",
    "for dessert in food_dict['Ryan']['Desserts']:\n",
    "    dessert_string += dessert + \", \"\n",
    "    \n",
    "print(dessert_string)\n",
    "    "
   ]
  },
  {
   "cell_type": "code",
   "execution_count": 42,
   "metadata": {},
   "outputs": [
    {
     "name": "stdout",
     "output_type": "stream",
     "text": [
      "Mexican\n",
      "Desserts\n",
      "Dominican\n",
      "American\n",
      "Vegan\n",
      "Desserts\n",
      "Indian Food\n",
      "Desserts\n",
      "Spanish\n",
      "Desserts\n",
      "Food\n",
      "Desserts\n",
      "Mexican Seafood\n",
      "Desserts\n",
      "Pasta\n",
      "Pizza\n",
      "Cake\n",
      "Vietnamese\n",
      "Fruits\n",
      "Haitian\n",
      "desert\n",
      "Italian\n",
      "Desserts\n",
      "Kazakh\n",
      "Deserts\n",
      "beef\n",
      "eggs\n",
      "Korean\n",
      "Asian\n",
      "Desserts\n"
     ]
    }
   ],
   "source": [
    "#Everyone's favorite food genres\n",
    "for name in food_dict.keys():\n",
    "    for genre in food_dict[name].keys():\n",
    "        print(genre)\n",
    "    "
   ]
  },
  {
   "cell_type": "code",
   "execution_count": 43,
   "metadata": {},
   "outputs": [
    {
     "name": "stdout",
     "output_type": "stream",
     "text": [
      "\n",
      "Here are all foods listed: \n",
      "\n",
      "\n",
      "Ryan's favorite foods are: \n",
      "Tacos\n",
      "Tortas\n",
      "Conchas\n",
      "Cheesecake\n",
      "Pie\n",
      "Chocolate Chip Cookies\n",
      "Cupcakes\n",
      "\n",
      "Javier's favorite foods are: \n",
      "Mango\n",
      "PassionFruit\n",
      "Flan\n",
      "Chicken\n",
      "Gravy\n",
      "Mashed Potatos\n",
      "\n",
      "Miguel's favorite foods are: \n",
      "Beans\n",
      "Fruits\n",
      "Vegetables\n",
      "peanuts\n",
      "cookies\n",
      "popcorn\n",
      "soda\n",
      "\n",
      "Grace's favorite foods are: \n",
      "Palak Paneer\n",
      "Naan\n",
      "Chana Masala\n",
      "Lemon Bars\n",
      "Cheesecake\n",
      "Pies\n",
      "\n",
      "Anthony's favorite foods are: \n",
      "Tacos\n",
      "Mofongo\n",
      "Papusas\n",
      "Cheescake\n",
      "Flan\n",
      "Oreos\n",
      "M&Ms\n",
      "\n",
      "Bikram's favorite foods are: \n",
      "Pasta\n",
      "Fried Chicken\n",
      "Rice\n",
      "Chocolate Cake\n",
      "Ice CreamDunots\n",
      "\n",
      "Juan's favorite foods are: \n",
      "Langostinos\n",
      "Ceviche\n",
      "Chapuzon\n",
      "Cheesecake\n",
      "Flan\n",
      "Brownies\n",
      "\n",
      "Connor's favorite foods are: \n",
      "penne\n",
      "spagetti\n",
      "farfelle\n",
      "Chicago Style pizza\n",
      "Detroit Style Pizza (best pizza)\n",
      "New York Pizza\n",
      "Cheesecake (best)\n",
      "Carrot Cake\n",
      "Chocholate Pican Cake\n",
      "\n",
      "Justin's favorite foods are: \n",
      "Pho\n",
      "Banh Mi\n",
      "Bun Bo Hue\n",
      "Apple\n",
      "Pear\n",
      "Grapes\n",
      "Jackfruit\n",
      "\n",
      "Claudel's favorite foods are: \n",
      "kalalou\n",
      "tchaka\n",
      "bouton\n",
      "kremas\n",
      "bonbonsiwo\n",
      "dousmakos\n",
      "\n",
      "Andres's favorite foods are: \n",
      "Pasta\n",
      "Raviolis\n",
      "Pizza\n",
      "Ice cream\n",
      "Cookies\n",
      "Brownies\n",
      "Waffle\n",
      "\n",
      "Berik's favorite foods are: \n",
      "Beshbarmak\n",
      "Kuyrdak\n",
      "Kebab\n",
      "Kaymak\n",
      "Medovik\n",
      "Tort\n",
      "\n",
      "Wil's favorite foods are: \n",
      "tacos\n",
      "torta\n",
      "queso\n",
      "over_easy\n",
      "over_less_easy\n",
      "with_queso\n",
      "\n",
      "Dez's favorite foods are: \n",
      "Bibimbop\n",
      "Kimchi\n",
      "Samgyeopsa\n",
      "Tteokbokki\n",
      "Bulgogi\n",
      "\n",
      "Kym's favorite foods are: \n",
      "Ramen\n",
      "Sushi\n",
      "Fried Noodles\n",
      "Dark_chocalate\n",
      "Ice cream\n",
      "honeycake\n"
     ]
    }
   ],
   "source": [
    "#print everyones favorite foods\n",
    "print(\"\\nHere are all foods listed: \\n\")\n",
    "for name in food_dict.keys():\n",
    "    print(f\"\\n{name}'s favorite foods are: \")\n",
    "    for food_type in food_dict[name].keys():\n",
    "        for food in food_dict[name][food_type]:\n",
    "            print(food)"
   ]
  },
  {
   "cell_type": "markdown",
   "metadata": {},
   "source": [
    "## Dictionaries vs. Lists (over time) Example of RUNTIME\n",
    "### When inputting values in a Dictionary vs List"
   ]
  },
  {
   "cell_type": "code",
   "execution_count": 44,
   "metadata": {},
   "outputs": [],
   "source": [
    "import time\n",
    "\n",
    "#generate dictionary\n",
    "d = {}\n",
    "\n",
    "for i in range(10000000):\n",
    "    d[i] = \"value \" + str(i)\n",
    "    \n",
    "#generate list\n",
    "big_list = [x for x in range(10000000)]\n",
    "    \n",
    "\n",
    "    \n",
    "\n"
   ]
  },
  {
   "cell_type": "code",
   "execution_count": 45,
   "metadata": {},
   "outputs": [
    {
     "name": "stdout",
     "output_type": "stream",
     "text": [
      "value 9999999\n",
      "elapsed time for dictionary: 0.00037097930908203125\n",
      "9999999\n",
      "Elapsed time for list: 0.49913811683654785\n",
      "9999999\n",
      "Elapsed time for known position 4.315376281738281e-05\n"
     ]
    }
   ],
   "source": [
    "#track the time for the dictionary\n",
    "\n",
    "start_time = time.time()\n",
    "\n",
    "print(d[9999999])\n",
    "        \n",
    "end_time = time.time() - start_time\n",
    "\n",
    "print(f\"elapsed time for dictionary: {end_time}\")\n",
    "\n",
    "\n",
    "start_time = time.time()\n",
    "\n",
    "#Tracking time for the list\n",
    "for i in range(len(big_list)):\n",
    "    if i == 9999999:\n",
    "        print(i)\n",
    "        \n",
    "end_time = time.time() - start_time\n",
    "print(f\"Elapsed time for list: {end_time}\")\n",
    "\n",
    "\n",
    "#Tracking time for a known position in a list\n",
    "start_time = time.time()\n",
    "\n",
    "print(big_list[-1])\n",
    "end_time = time.time() - start_time\n",
    "print(f\"Elapsed time for known position {end_time}\")\n",
    "        \n",
    "\n",
    "        "
   ]
  },
  {
   "cell_type": "markdown",
   "metadata": {},
   "source": [
    "## Exercise #3 - Write a Function that asks someone's name and address, and then stores that into a dictionary, and continues to do so until they choose to 'quit'. Once they quit, the program should print all names and addresses. <br>\n",
    "<p>\n",
    "<b>Proper steps:</b><br>\n",
    "step 1: write a function that takes in information and stores it in a dictionary<br>\n",
    "step 2: define an empty dictionary to work with<br>\n",
    "step 3: create our loop, which asks the user for information until they quit<br>\n",
    "step 4: ask for the information, and store it into variables<br>\n",
    "step 5: check if the user types quit<br>\n",
    "step 5a: print out all information<br>\n",
    "step 5b: break out of the loop<br>\n",
    "step 6: if they didn't quit, add the information to the dictionary<br>\n",
    "step 7: invoke the function by calling it\n",
    "</p>"
   ]
  },
  {
   "cell_type": "code",
   "execution_count": 46,
   "metadata": {
    "scrolled": true
   },
   "outputs": [
    {
     "name": "stdin",
     "output_type": "stream",
     "text": [
      "Enter a name or say 'quit' to quit:  quit\n"
     ]
    },
    {
     "name": "stdout",
     "output_type": "stream",
     "text": [
      "\n",
      "\n"
     ]
    },
    {
     "name": "stdin",
     "output_type": "stream",
     "text": [
      "Enter a name or say 'quit' to quit:  Bikram\n",
      "Enter an address or say 'quit' to quit.  24kdfhsd\n",
      "Enter a name or say 'quit' to quit:  khdkfh\n",
      "Enter an address or say 'quit' to quit.  hshajkl\n",
      "Enter a name or say 'quit' to quit:  jkhdjfhd\n",
      "Enter an address or say 'quit' to quit.  quit\n"
     ]
    },
    {
     "name": "stdout",
     "output_type": "stream",
     "text": [
      "The address for Bikram is 24kdfhsd\n",
      "The address for khdkfh is hshajkl\n"
     ]
    }
   ],
   "source": [
    "from IPython.display import clear_output\n",
    "\n",
    "# Step 1\n",
    "def storeInfo():\n",
    "    #step 2\n",
    "    d = {}\n",
    "    \n",
    "    #step 3\n",
    "    while True:\n",
    "        #step 4\n",
    "        name = input(\"Enter a name or say 'quit' to quit: \")\n",
    "        if name.lower() != 'quit':\n",
    "            address = input(\"Enter an address or say 'quit' to quit\")\n",
    "       \n",
    "        #step 5\n",
    "        if name.lower() == \"quit\" or address.lower() == \"quit\":\n",
    "            #step 5a\n",
    "            for key, value in d.items():\n",
    "                print(f\"The address for {key} is {value}.\")\n",
    "            break\n",
    "        \n",
    "        d[name] = address #step 6\n",
    "        \n",
    "            \n",
    "            \n",
    "#Step 7\n",
    "storeInfo()\n",
    "print('\\n')\n",
    "            \n",
    "            \n",
    "from IPython.display import clear_output\n",
    "\n",
    "#step 1 work on functions tomorrow\n",
    "\n",
    "#step 2\n",
    "d = {}\n",
    "\n",
    "#step 3 while True will run until we hit a break condition\n",
    "while True:\n",
    "    #step 4\n",
    "    name = input(\"Enter a name or say 'quit' to quit: \")\n",
    "    if name.strip().lower() != 'quit':\n",
    "        address = input(\"Enter an address or say 'quit' to quit. \")\n",
    "        \n",
    "    #step 5\n",
    "    if name.lower() == \"quit\" or address.lower() == \"quit\":\n",
    "        #step 5a\n",
    "        for name, address in d.items():\n",
    "            print(f\"The address for {name} is {address}\")\n",
    "        break\n",
    "        \n",
    "    d[name] = address #step 6        \n",
    "        "
   ]
  },
  {
   "cell_type": "markdown",
   "metadata": {},
   "source": [
    "## Set <br>\n",
    "<p>A Set is an unordered collection data type that is iterable (loop), mutable, and has no duplicate elements.<br>Major advantage is that it is highly optimized in checking if something is in the set, as opposed to checking if something is in a list.</p>"
   ]
  },
  {
   "cell_type": "markdown",
   "metadata": {},
   "source": [
    "##### Declaring"
   ]
  },
  {
   "cell_type": "code",
   "execution_count": 47,
   "metadata": {},
   "outputs": [
    {
     "name": "stdout",
     "output_type": "stream",
     "text": [
      "{8, 1, 4}\n",
      "{1, 4, 5, 6, 7, 8, 9}\n"
     ]
    }
   ],
   "source": [
    "# set() or {}\n",
    "# no order {3, 2, 1} outputs as {1, 2, 3}\n",
    "\n",
    "nums = {4, 1, 8, 4}\n",
    "\n",
    "print(nums)\n",
    "\n",
    "my_list = [1,1,1,1,1,4,5,6,6,6,6,6,6,6,7,7,8,9,9,9,9,9,9]\n",
    "\n",
    "my_set = set(my_list)\n",
    "print(my_set)"
   ]
  },
  {
   "cell_type": "code",
   "execution_count": 48,
   "metadata": {
    "scrolled": true
   },
   "outputs": [
    {
     "name": "stdout",
     "output_type": "stream",
     "text": [
      "{1, 4, 5, 6, 7, 8, 9}\n",
      "[1, 4, 5, 6, 7, 8, 9]\n",
      "7\n"
     ]
    }
   ],
   "source": [
    "#remove all duplicates from the list\n",
    "my_list = [1,1,1,1,1,4,5,6,6,6,6,6,6,6,7,7,8,9,9,9,9,9,9]\n",
    "my_set = set(my_list)\n",
    "print(my_set)\n",
    "my_list = list(my_set)\n",
    "print(my_list)\n",
    "\n",
    "print(len(my_set))\n",
    "# print(my_set[1]) #Cannot index because sets are unordered"
   ]
  },
  {
   "cell_type": "code",
   "execution_count": 49,
   "metadata": {},
   "outputs": [
    {
     "name": "stdout",
     "output_type": "stream",
     "text": [
      "['__and__', '__class__', '__class_getitem__', '__contains__', '__delattr__', '__dir__', '__doc__', '__eq__', '__format__', '__ge__', '__getattribute__', '__getstate__', '__gt__', '__hash__', '__iand__', '__init__', '__init_subclass__', '__ior__', '__isub__', '__iter__', '__ixor__', '__le__', '__len__', '__lt__', '__ne__', '__new__', '__or__', '__rand__', '__reduce__', '__reduce_ex__', '__repr__', '__ror__', '__rsub__', '__rxor__', '__setattr__', '__sizeof__', '__str__', '__sub__', '__subclasshook__', '__xor__', 'add', 'clear', 'copy', 'difference', 'difference_update', 'discard', 'intersection', 'intersection_update', 'isdisjoint', 'issubset', 'issuperset', 'pop', 'remove', 'symmetric_difference', 'symmetric_difference_update', 'union', 'update']\n"
     ]
    }
   ],
   "source": [
    "print(dir(my_set))"
   ]
  },
  {
   "cell_type": "markdown",
   "metadata": {},
   "source": [
    "##### .add()"
   ]
  },
  {
   "cell_type": "code",
   "execution_count": 50,
   "metadata": {},
   "outputs": [
    {
     "name": "stdout",
     "output_type": "stream",
     "text": [
      "{2, 4, 5, 7, 9}\n",
      "{2, 4, 5, 22, 7, 9}\n",
      "{2, 4, 5, 22, 7, 9}\n",
      "{2, 2.4, 4, 5, 22, 7, 9}\n",
      "{2, 2.4, 4, 5, 22, 7, 'Hello', 9}\n",
      "{2, 2.4, 4, 5, 7, 9, 22, 'hello', 'Hello'}\n",
      "{2, 2.4, 4, 5, 7, 9, 22, 'hello', 'Hello'}\n"
     ]
    }
   ],
   "source": [
    "# set.add()\n",
    "\n",
    "my_set = {2, 5, 4, 7, 9}\n",
    "print(my_set)\n",
    "my_set.add(22)\n",
    "print(my_set)\n",
    "my_set.add(2)\n",
    "print(my_set)\n",
    "my_set.add(2.4)\n",
    "print(my_set)\n",
    "my_set.add('Hello')\n",
    "print(my_set)\n",
    "my_set.add('hello')\n",
    "print(my_set)\n",
    "my_set.add('hello')\n",
    "print(my_set)\n",
    "\n"
   ]
  },
  {
   "cell_type": "markdown",
   "metadata": {},
   "source": [
    "##### .remove()"
   ]
  },
  {
   "cell_type": "code",
   "execution_count": 51,
   "metadata": {},
   "outputs": [
    {
     "name": "stdout",
     "output_type": "stream",
     "text": [
      "{2, 2.4, 4, 5, 7, 9, 22, 'hello', 'Hello'}\n",
      "{2, 2.4, 4, 5, 7, 9, 22, 'hello', 'Hello'}\n",
      "{2, 2.4, 4, 5, 7, 22, 'hello', 'Hello'}\n"
     ]
    }
   ],
   "source": [
    "# removes by value\n",
    "# set.remove()\n",
    "# nums.remove(56)\n",
    "print(my_set)\n",
    "# my_set.remove(22)\n",
    "print(my_set)\n",
    "my_set.remove(9)\n",
    "print(my_set)\n"
   ]
  },
  {
   "cell_type": "markdown",
   "metadata": {},
   "source": [
    "##### .union() "
   ]
  },
  {
   "cell_type": "code",
   "execution_count": 52,
   "metadata": {},
   "outputs": [
    {
     "name": "stdout",
     "output_type": "stream",
     "text": [
      "{1, 2, 3, 4, 5, 6}\n",
      "{1, 2, 3, 4, 5, 6}\n"
     ]
    }
   ],
   "source": [
    "# Returns a union of two sets, can also use '|' or set.union(set)\n",
    "# joins all numbers, gets rid of duplicates\n",
    "s1 = {1,2,3,4}\n",
    "s2 = {3,4,5,6}\n",
    "\n",
    "s3 = s1.union(s2)\n",
    "\n",
    "print(s3)\n",
    "\n",
    "# or\n",
    "\n",
    "s4 = s2 | s1\n",
    "\n",
    "print(s4)\n",
    "\n"
   ]
  },
  {
   "cell_type": "markdown",
   "metadata": {},
   "source": [
    "##### .intersection()"
   ]
  },
  {
   "cell_type": "code",
   "execution_count": 53,
   "metadata": {},
   "outputs": [
    {
     "name": "stdout",
     "output_type": "stream",
     "text": [
      "{3, 4}\n",
      "{3, 4}\n"
     ]
    }
   ],
   "source": [
    "# Returns an intersection of two sets, can also use '&'\n",
    "# only takes similar elements from both sets\n",
    "s1 = {1,2,3,4}\n",
    "s2 = {3,4,5,6}\n",
    "\n",
    "s3 = s2.intersection(s1)\n",
    "\n",
    "print(s3)\n",
    "\n",
    "\n",
    "s4 = s1 & s2\n",
    "\n",
    "print(s4)"
   ]
  },
  {
   "cell_type": "markdown",
   "metadata": {},
   "source": [
    "##### .difference()"
   ]
  },
  {
   "cell_type": "code",
   "execution_count": 54,
   "metadata": {},
   "outputs": [
    {
     "name": "stdout",
     "output_type": "stream",
     "text": [
      "{1, 2}\n",
      "{5, 6}\n"
     ]
    }
   ],
   "source": [
    "# Returns a set containing all the elements of invoking set that are not in the second set, can also use '-'\n",
    "# only takes values from the first set that are not in the second set\n",
    "# order matters\n",
    "s1 = {1,2,3,4}\n",
    "s2 = {3,4,5,6}\n",
    "\n",
    "s7 = s1 - s2\n",
    "print(s7)\n",
    "\n",
    "#or \n",
    "\n",
    "s8 = s2.difference(s1)\n",
    "print(s8)"
   ]
  },
  {
   "cell_type": "markdown",
   "metadata": {},
   "source": [
    "##### .clear()"
   ]
  },
  {
   "cell_type": "code",
   "execution_count": 55,
   "metadata": {},
   "outputs": [
    {
     "name": "stdout",
     "output_type": "stream",
     "text": [
      "{5, 6}\n",
      "set()\n"
     ]
    }
   ],
   "source": [
    "# Empties the whole set\n",
    "# set.clear()\n",
    "print(s8)\n",
    "s8.clear()\n",
    "print(s8)\n"
   ]
  },
  {
   "cell_type": "code",
   "execution_count": 56,
   "metadata": {},
   "outputs": [
    {
     "name": "stdout",
     "output_type": "stream",
     "text": [
      "{}\n"
     ]
    }
   ],
   "source": [
    "my_dict = {}\n",
    "print(my_dict)"
   ]
  },
  {
   "cell_type": "markdown",
   "metadata": {},
   "source": [
    "##### Frozenset <br>\n",
    "<p>Frozen sets are immutable objects that only support methods and operators that produce a result without affecting the frozen set or sets to which they are applied.</p><br><b>Unique & Immutable</b>"
   ]
  },
  {
   "cell_type": "code",
   "execution_count": 57,
   "metadata": {},
   "outputs": [
    {
     "name": "stdout",
     "output_type": "stream",
     "text": [
      "{2, 3, 4, 5, 7, 'my dog is neat', 'hello'}\n",
      "frozenset({2, 3, 4, 5, 7, 'my dog is neat', 'hello'})\n",
      "{2, 3, 4, 5, 7, 'my dog is neat', 'hello'}\n",
      "{2, 3, 4, 5, 'cool beans', 7, 'my dog is neat', 'hello'}\n",
      "frozenset({2, 3, 4, 5, 'cool beans', 7, 'my dog is neat', 'hello'})\n"
     ]
    }
   ],
   "source": [
    "# frozenset([])\n",
    "my_set = {2, 3, 4, 'hello', 7, 'my dog is neat', 5}\n",
    "print(my_set)\n",
    "\n",
    "frozen_set = frozenset(my_set)\n",
    "\n",
    "print(frozen_set)\n",
    "\n",
    "# frozen_set.add(22)\n",
    "# frozen_set.remove('hello')\n",
    "\n",
    "my_new_set = set(frozen_set)\n",
    "\n",
    "print(my_new_set)\n",
    "my_new_set.add('cool beans')\n",
    "print(my_new_set)\n",
    "frozen_set = frozenset(my_new_set)\n",
    "print(frozen_set)\n",
    "\n"
   ]
  },
  {
   "cell_type": "markdown",
   "metadata": {},
   "source": [
    "# Exercises"
   ]
  },
  {
   "cell_type": "markdown",
   "metadata": {},
   "source": [
    "### 1) Build a Shopping Cart <br>\n",
    "<p><b>You can use either lists or dictionaries. The program should have the following capabilities:</b><br><br>\n",
    "1) Takes in input <br>\n",
    "2) Stores user input into a dictionary or list <br>\n",
    "3) The User can add or delete items <br>\n",
    "4) The User can see current shopping list <br>\n",
    "5) The program Loops until user 'quits' <br>\n",
    "6) Upon quiting the program, print out all items in the user's list <br>\n",
    "</p>"
   ]
  },
  {
   "cell_type": "code",
   "execution_count": 87,
   "metadata": {},
   "outputs": [
    {
     "name": "stdin",
     "output_type": "stream",
     "text": [
      "Enter an item name:  apple\n",
      "Would you like to add more items?: (yes/no)  yes\n",
      "Do you want to delete an item?: (yes/no) no\n"
     ]
    },
    {
     "name": "stdout",
     "output_type": "stream",
     "text": [
      "Shopping_cart:\n",
      "1 apple\n"
     ]
    }
   ],
   "source": [
    "from IPython.display import clear_output\n",
    "\n",
    "# Ask the user four bits of input: Do you want to : Show/Add/Delete or Quit?\n",
    "\n",
    "#step 1\n",
    "shopping_cart = {}\n",
    "\n",
    "#step 2 while True will run until we hit a break condition\n",
    "while True:\n",
    "    item_name = input(\"Enter an item name: \")\n",
    "\n",
    "    #item name to the dictionary\n",
    "    shopping_cart[item_name] = 1\n",
    "\n",
    "\n",
    "    #Ask the user if they want to add more items\n",
    "    add_more_items = input(\"Would you like to add more items?: (yes/no) \")\n",
    "    if add_more_items != \"yes\":\n",
    "        break\n",
    "        \n",
    "    #Ask the user if they want to delete items\n",
    "    delete_item = input(\"Do you want to delete an item?: (yes/no)\")\n",
    "    if delete_item != \"yes\":\n",
    "        break\n",
    "\n",
    "    #Ask the user if they want to view items\n",
    "    view_item = input(\"Do you want to view an item?: (yes/no)\")\n",
    "    if view_item != \"yes\":\n",
    "        break\n",
    "    \n",
    "    #Ask the user if they want to quit items\n",
    "    quit = input(\"Do you want to quit?: (yes/no)\")\n",
    "    if view_item == \"yes\":\n",
    "        break\n",
    "\n",
    "#Print the shopping cart\n",
    "print(\"Shopping_cart:\")\n",
    "for item_name, quantity in shopping_cart.items():\n",
    "    print(f\"{quantity} {item_name}\")\n",
    "    \n",
    "    "
   ]
  },
  {
   "cell_type": "markdown",
   "metadata": {},
   "source": [
    "### 2) Set Practice"
   ]
  },
  {
   "cell_type": "markdown",
   "metadata": {},
   "source": [
    "<p><b>Remove all duplicates from the following list</b></p>"
   ]
  },
  {
   "cell_type": "code",
   "execution_count": 68,
   "metadata": {},
   "outputs": [
    {
     "data": {
      "text/plain": [
       "{1, 2, 3, 4, 5, 6, 11, 12, 14, 16}"
      ]
     },
     "execution_count": 68,
     "metadata": {},
     "output_type": "execute_result"
    }
   ],
   "source": [
    "nums_list = [1, 1, 1, 2, 2, 3, 5, 6, 4, 12, 11, 12, 12, 14, 16, 16, 16, 1, 1, 1, 2, 2]\n",
    "set(nums_list)"
   ]
  },
  {
   "cell_type": "markdown",
   "metadata": {},
   "source": [
    "<p><b>Out put the intersection of the following the following sets.</b></p>"
   ]
  },
  {
   "cell_type": "code",
   "execution_count": 74,
   "metadata": {},
   "outputs": [
    {
     "name": "stdout",
     "output_type": "stream",
     "text": [
      "{26, 27}\n",
      "\n",
      "\n",
      "{26, 27}\n"
     ]
    }
   ],
   "source": [
    "set1 = {20, 24, 26, 27}\n",
    "set2 = {26, 35, 63, 27}\n",
    "\n",
    "set3 = set2.intersection(set1)\n",
    "print(set3)\n",
    "print('\\n')\n",
    "\n",
    "set4 = set1 & set2\n",
    "\n",
    "print(set4)"
   ]
  },
  {
   "cell_type": "markdown",
   "metadata": {},
   "source": [
    "<p><b>Output the difference between the following sets</b></p>"
   ]
  },
  {
   "cell_type": "code",
   "execution_count": 77,
   "metadata": {},
   "outputs": [
    {
     "name": "stdout",
     "output_type": "stream",
     "text": [
      "{89, 100}\n",
      "{89, 100}\n"
     ]
    }
   ],
   "source": [
    "set3 = {100, 65, 89, 200}\n",
    "set4 = {65, 103, 54, 200}\n",
    "\n",
    "set5 = set3 - set4\n",
    "print(set5)\n",
    "\n",
    "#or \n",
    "\n",
    "set6 = set3.difference(set4)\n",
    "print(set6)"
   ]
  },
  {
   "cell_type": "code",
   "execution_count": null,
   "metadata": {},
   "outputs": [],
   "source": []
  }
 ],
 "metadata": {
  "kernelspec": {
   "display_name": "Python 3 (ipykernel)",
   "language": "python",
   "name": "python3"
  },
  "language_info": {
   "codemirror_mode": {
    "name": "ipython",
    "version": 3
   },
   "file_extension": ".py",
   "mimetype": "text/x-python",
   "name": "python",
   "nbconvert_exporter": "python",
   "pygments_lexer": "ipython3",
   "version": "3.11.5"
  }
 },
 "nbformat": 4,
 "nbformat_minor": 4
}
